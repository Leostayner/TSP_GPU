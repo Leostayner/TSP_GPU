{
 "cells": [
  {
   "cell_type": "code",
   "execution_count": null,
   "metadata": {},
   "outputs": [],
   "source": [
    "##import dependences\n",
    "import pandas as pd\n",
    "import subprocess\n",
    "import sys\n",
    "\n",
    "##files\n",
    "dir_name = \"../build/\"\n",
    "files    = [\"tsp-seq\", \"tsp-par\"]\n",
    "inputs   = [\"input1\", \"input2\", \"input3\"]\n",
    "\n",
    "n_rects   = []\n",
    "dic       = {}\n",
    "\n",
    "## Run files and storage output\n",
    "for input in inputs:\n",
    "    dic[input] = {}\n",
    "\n",
    "    for f in files:\n",
    "        command = dir_name + f + \" < \" + input\n",
    "        stout   = subprocess.check_output(command, shell=True).decode(sys.stdout.encoding)\n",
    "        dic[input][f]  = float(stout.split(\"\\n\")[-1].split(\":\")[1])\n",
    "        \n",
    "    with open(input, 'r') as f:\n",
    "        nrect = f.read().split(\"\\n\")[1]\n",
    "\n",
    "    n_rects.append(nrect)\n",
    "    \n",
    "## Generate Dataframe \n",
    "s0  = [dic[\"input1\"][\"tsp-seq\"], dic[\"input2\"][\"tsp-seq\"], dic[\"input3\"][\"tsp-seq\"]]\n",
    "s1  = [dic[\"input1\"][\"tsp-par\"], dic[\"input2\"][\"tsp-par\"], dic[\"input3\"][\"tsp-par\"]]\n",
    "#s2  = [dic[\"input1\"][\"tsp-seq\"], dic[\"input2\"][\"tsp-seq\"], dic[\"input3\"][\"tsp-seq\"]]\n",
    "\n",
    "df = pd.DataFrame({\"tsp-seq\":s0, \"tsp-par\":s1, \"N\": n_rects}, index = dic.keys())\n",
    "df\n",
    "\n",
    "df.plot.bar(figsize = (15,8), title = \"Time X input\")"
   ]
  },
  {
   "cell_type": "code",
   "execution_count": null,
   "metadata": {},
   "outputs": [],
   "source": []
  }
 ],
 "metadata": {
  "kernelspec": {
   "display_name": "Python 3",
   "language": "python",
   "name": "python3"
  }
 },
 "nbformat": 4,
 "nbformat_minor": 2
}
